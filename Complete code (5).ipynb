{
 "cells": [
  {
   "cell_type": "code",
   "execution_count": 1,
   "metadata": {},
   "outputs": [],
   "source": [
    "import pandas as pd\n",
    "import numpy as np\n",
    "import seaborn as sns\n",
    "from scipy import stats\n",
    "import matplotlib.pyplot as plt\n",
    "from sklearn import preprocessing\n",
    "from sklearn.preprocessing import Imputer\n",
    "from sklearn.model_selection import train_test_split\n",
    "from sklearn.ensemble import RandomForestClassifier\n",
    "from sklearn.metrics import confusion_matrix\n",
    "from sklearn.metrics import roc_curve\n",
    "from IPython.display import display, HTML\n",
    "from sklearn.preprocessing import scale "
   ]
  },
  {
   "cell_type": "markdown",
   "metadata": {},
   "source": [
    "# Import Data"
   ]
  },
  {
   "cell_type": "code",
   "execution_count": 2,
   "metadata": {},
   "outputs": [],
   "source": [
    "data = pd.read_csv('C:/Users/Eugene/Desktop/Courses of the Master of Statistics/Fourth Semester/Big Data/Assignment 2/hmeq.csv')"
   ]
  },
  {
   "cell_type": "code",
   "execution_count": 5,
   "metadata": {},
   "outputs": [
    {
     "data": {
      "text/html": [
       "<div>\n",
       "<style>\n",
       "    .dataframe thead tr:only-child th {\n",
       "        text-align: right;\n",
       "    }\n",
       "\n",
       "    .dataframe thead th {\n",
       "        text-align: left;\n",
       "    }\n",
       "\n",
       "    .dataframe tbody tr th {\n",
       "        vertical-align: top;\n",
       "    }\n",
       "</style>\n",
       "<table border=\"1\" class=\"dataframe\">\n",
       "  <thead>\n",
       "    <tr style=\"text-align: right;\">\n",
       "      <th></th>\n",
       "      <th>BAD</th>\n",
       "      <th>LOAN</th>\n",
       "      <th>MORTDUE</th>\n",
       "      <th>VALUE</th>\n",
       "      <th>YOJ</th>\n",
       "      <th>DEROG</th>\n",
       "      <th>DELINQ</th>\n",
       "      <th>CLAGE</th>\n",
       "      <th>NINQ</th>\n",
       "      <th>CLNO</th>\n",
       "      <th>DEBTINC</th>\n",
       "    </tr>\n",
       "  </thead>\n",
       "  <tbody>\n",
       "    <tr>\n",
       "      <th>count</th>\n",
       "      <td>5960.000000</td>\n",
       "      <td>5960.000000</td>\n",
       "      <td>5442.000000</td>\n",
       "      <td>5848.000000</td>\n",
       "      <td>5445.000000</td>\n",
       "      <td>5252.000000</td>\n",
       "      <td>5380.000000</td>\n",
       "      <td>5652.000000</td>\n",
       "      <td>5450.000000</td>\n",
       "      <td>5738.000000</td>\n",
       "      <td>4693.000000</td>\n",
       "    </tr>\n",
       "    <tr>\n",
       "      <th>mean</th>\n",
       "      <td>0.199497</td>\n",
       "      <td>18607.969799</td>\n",
       "      <td>73760.817200</td>\n",
       "      <td>101776.048741</td>\n",
       "      <td>8.922268</td>\n",
       "      <td>0.254570</td>\n",
       "      <td>0.449442</td>\n",
       "      <td>179.766275</td>\n",
       "      <td>1.186055</td>\n",
       "      <td>21.296096</td>\n",
       "      <td>33.779915</td>\n",
       "    </tr>\n",
       "    <tr>\n",
       "      <th>std</th>\n",
       "      <td>0.399656</td>\n",
       "      <td>11207.480417</td>\n",
       "      <td>44457.609458</td>\n",
       "      <td>57385.775334</td>\n",
       "      <td>7.573982</td>\n",
       "      <td>0.846047</td>\n",
       "      <td>1.127266</td>\n",
       "      <td>85.810092</td>\n",
       "      <td>1.728675</td>\n",
       "      <td>10.138933</td>\n",
       "      <td>8.601746</td>\n",
       "    </tr>\n",
       "    <tr>\n",
       "      <th>min</th>\n",
       "      <td>0.000000</td>\n",
       "      <td>1100.000000</td>\n",
       "      <td>2063.000000</td>\n",
       "      <td>8000.000000</td>\n",
       "      <td>0.000000</td>\n",
       "      <td>0.000000</td>\n",
       "      <td>0.000000</td>\n",
       "      <td>0.000000</td>\n",
       "      <td>0.000000</td>\n",
       "      <td>0.000000</td>\n",
       "      <td>0.524499</td>\n",
       "    </tr>\n",
       "    <tr>\n",
       "      <th>25%</th>\n",
       "      <td>0.000000</td>\n",
       "      <td>11100.000000</td>\n",
       "      <td>46276.000000</td>\n",
       "      <td>66075.500000</td>\n",
       "      <td>3.000000</td>\n",
       "      <td>0.000000</td>\n",
       "      <td>0.000000</td>\n",
       "      <td>115.116702</td>\n",
       "      <td>0.000000</td>\n",
       "      <td>15.000000</td>\n",
       "      <td>29.140031</td>\n",
       "    </tr>\n",
       "    <tr>\n",
       "      <th>50%</th>\n",
       "      <td>0.000000</td>\n",
       "      <td>16300.000000</td>\n",
       "      <td>65019.000000</td>\n",
       "      <td>89235.500000</td>\n",
       "      <td>7.000000</td>\n",
       "      <td>0.000000</td>\n",
       "      <td>0.000000</td>\n",
       "      <td>173.466667</td>\n",
       "      <td>1.000000</td>\n",
       "      <td>20.000000</td>\n",
       "      <td>34.818262</td>\n",
       "    </tr>\n",
       "    <tr>\n",
       "      <th>75%</th>\n",
       "      <td>0.000000</td>\n",
       "      <td>23300.000000</td>\n",
       "      <td>91488.000000</td>\n",
       "      <td>119824.250000</td>\n",
       "      <td>13.000000</td>\n",
       "      <td>0.000000</td>\n",
       "      <td>0.000000</td>\n",
       "      <td>231.562278</td>\n",
       "      <td>2.000000</td>\n",
       "      <td>26.000000</td>\n",
       "      <td>39.003141</td>\n",
       "    </tr>\n",
       "    <tr>\n",
       "      <th>max</th>\n",
       "      <td>1.000000</td>\n",
       "      <td>89900.000000</td>\n",
       "      <td>399550.000000</td>\n",
       "      <td>855909.000000</td>\n",
       "      <td>41.000000</td>\n",
       "      <td>10.000000</td>\n",
       "      <td>15.000000</td>\n",
       "      <td>1168.233561</td>\n",
       "      <td>17.000000</td>\n",
       "      <td>71.000000</td>\n",
       "      <td>203.312149</td>\n",
       "    </tr>\n",
       "  </tbody>\n",
       "</table>\n",
       "</div>"
      ],
      "text/plain": [
       "               BAD          LOAN        MORTDUE          VALUE          YOJ  \\\n",
       "count  5960.000000   5960.000000    5442.000000    5848.000000  5445.000000   \n",
       "mean      0.199497  18607.969799   73760.817200  101776.048741     8.922268   \n",
       "std       0.399656  11207.480417   44457.609458   57385.775334     7.573982   \n",
       "min       0.000000   1100.000000    2063.000000    8000.000000     0.000000   \n",
       "25%       0.000000  11100.000000   46276.000000   66075.500000     3.000000   \n",
       "50%       0.000000  16300.000000   65019.000000   89235.500000     7.000000   \n",
       "75%       0.000000  23300.000000   91488.000000  119824.250000    13.000000   \n",
       "max       1.000000  89900.000000  399550.000000  855909.000000    41.000000   \n",
       "\n",
       "             DEROG       DELINQ        CLAGE         NINQ         CLNO  \\\n",
       "count  5252.000000  5380.000000  5652.000000  5450.000000  5738.000000   \n",
       "mean      0.254570     0.449442   179.766275     1.186055    21.296096   \n",
       "std       0.846047     1.127266    85.810092     1.728675    10.138933   \n",
       "min       0.000000     0.000000     0.000000     0.000000     0.000000   \n",
       "25%       0.000000     0.000000   115.116702     0.000000    15.000000   \n",
       "50%       0.000000     0.000000   173.466667     1.000000    20.000000   \n",
       "75%       0.000000     0.000000   231.562278     2.000000    26.000000   \n",
       "max      10.000000    15.000000  1168.233561    17.000000    71.000000   \n",
       "\n",
       "           DEBTINC  \n",
       "count  4693.000000  \n",
       "mean     33.779915  \n",
       "std       8.601746  \n",
       "min       0.524499  \n",
       "25%      29.140031  \n",
       "50%      34.818262  \n",
       "75%      39.003141  \n",
       "max     203.312149  "
      ]
     },
     "execution_count": 5,
     "metadata": {},
     "output_type": "execute_result"
    }
   ],
   "source": [
    "data.describe()"
   ]
  },
  {
   "cell_type": "markdown",
   "metadata": {},
   "source": [
    "# Delete rows that contains 80% of NaNs"
   ]
  },
  {
   "cell_type": "code",
   "execution_count": 3,
   "metadata": {},
   "outputs": [
    {
     "name": "stdout",
     "output_type": "stream",
     "text": [
      "   BAD  LOAN  MORTDUE     VALUE   REASON     JOB   YOJ  DEROG  DELINQ  \\\n",
      "0    1  1100  25860.0   39025.0  HomeImp   Other  10.5    0.0     0.0   \n",
      "1    1  1300  70053.0   68400.0  HomeImp   Other   7.0    0.0     2.0   \n",
      "2    1  1500  13500.0   16700.0  HomeImp   Other   4.0    0.0     0.0   \n",
      "4    0  1700  97800.0  112000.0  HomeImp  Office   3.0    0.0     0.0   \n",
      "5    1  1700  30548.0   40320.0  HomeImp   Other   9.0    0.0     0.0   \n",
      "\n",
      "        CLAGE  NINQ  CLNO    DEBTINC  \n",
      "0   94.366667   1.0   9.0        NaN  \n",
      "1  121.833333   0.0  14.0        NaN  \n",
      "2  149.466667   1.0  10.0        NaN  \n",
      "4   93.333333   0.0  14.0        NaN  \n",
      "5  101.466002   1.0   8.0  37.113614  \n"
     ]
    }
   ],
   "source": [
    "data = data.dropna(thresh=10)\n",
    "print(data.head())"
   ]
  },
  {
   "cell_type": "markdown",
   "metadata": {},
   "source": [
    "# Missing Data "
   ]
  },
  {
   "cell_type": "code",
   "execution_count": 4,
   "metadata": {},
   "outputs": [],
   "source": [
    "#Select all columns one by one and replace missing values\n",
    "\n",
    "#Means\n",
    "data['MORTDUE'] = data['MORTDUE'].fillna(data['MORTDUE'].mean()) \n",
    "data['VALUE'] = data['VALUE'].fillna(data['VALUE'].mean()) \n",
    "data['DEROG'] = data['DEROG'].fillna(data['DEROG'].mean()) \n",
    "data['DELINQ'] = data['DELINQ'].fillna(data['DELINQ'].mean()) \n",
    "data['CLAGE'] = data['CLAGE'].fillna(data['CLAGE'].mean()) \n",
    "data['NINQ'] = data['NINQ'].fillna(data['NINQ'].mean()) \n",
    "data['CLNO'] = data['CLNO'].fillna(data['CLNO'].mean()) \n",
    "data['YOJ'] = data['YOJ'].fillna(data['YOJ'].mean()) \n",
    "data['DEBTINC'] = data['DEBTINC'].fillna(data['DEBTINC'].mean()) \n",
    "\n",
    "#Mode (mode is Debtcon)\n",
    "data['REASON'] = data['REASON'].fillna('DebtCon')\n",
    "\n",
    "#New category\n",
    "data['JOB'] = data['JOB'].fillna('Unempl')"
   ]
  },
  {
   "cell_type": "markdown",
   "metadata": {},
   "source": [
    "# Outliers"
   ]
  },
  {
   "cell_type": "code",
   "execution_count": 37,
   "metadata": {},
   "outputs": [
    {
     "data": {
      "image/png": "[encoded data removed]",
      "text/plain": [
       "<matplotlib.figure.Figure at 0x157e9f3fda0>"
      ]
     },
     "metadata": {},
     "output_type": "display_data"
    }
   ],
   "source": [
    "num_data = data.select_dtypes(exclude=['object']).copy()\n",
    "num_data_2 = num_data.drop(['BAD'], axis=1)\n",
    "data_scaled = scale(num_data_2)\n",
    "\n",
    "# Create a figure instance\n",
    "fig = plt.figure(1, figsize=(15, 10))\n",
    "\n",
    "# Create an axes instance\n",
    "ax = fig.add_subplot(111)\n",
    "\n",
    "# Create the boxplot\n",
    "bxlabs=list(num_data_2)\n",
    "\n",
    "# Create the boxplot\n",
    "bp = ax.boxplot(data_scaled,labels=bxlabs,showfliers=True)\n",
    "plt.show()"
   ]
  },
  {
   "cell_type": "code",
   "execution_count": 5,
   "metadata": {},
   "outputs": [],
   "source": [
    "#Define the truncate function\n",
    "def truncate(Ys):\n",
    "    \n",
    "    Q1 = Ys.quantile(0.25)\n",
    "    Q3 = Ys.quantile(0.75)\n",
    "    IQR = Q3 - Q1\n",
    "    upper_bound =  Q3 + (1.5 * IQR)\n",
    "    lower_bound = Q1 - (1.5 * IQR)\n",
    "    value_outlier_Y_up = Ys > upper_bound\n",
    "    value_outlier_Y_low = Ys < lower_bound\n",
    "    outlier_listUB=len(Ys[value_outlier_Y_up])\n",
    "    outlier_listLB=len(Ys[value_outlier_Y_low])\n",
    "    if outlier_listUB != 0:\n",
    "        Yn = Ys.replace([Ys[value_outlier_Y_up]], upper_bound)\n",
    "    if outlier_listLB != 0:\n",
    "        Yn = Yn.replace([Yn[value_outlier_Y_low]], lower_bound) \n",
    "    \n",
    "    return Yn"
   ]
  },
  {
   "cell_type": "code",
   "execution_count": 39,
   "metadata": {},
   "outputs": [
    {
     "data": {
      "text/plain": [
       "1    70053.0\n",
       "2    13500.0\n",
       "4    97800.0\n",
       "5    30548.0\n",
       "Name: MORTDUE, dtype: float64"
      ]
     },
     "execution_count": 39,
     "metadata": {},
     "output_type": "execute_result"
    }
   ],
   "source": [
    "truncate(data['MORTDUE'])[1:5]\n"
   ]
  },
  {
   "cell_type": "code",
   "execution_count": 6,
   "metadata": {},
   "outputs": [],
   "source": [
    "#Apply the truncate function\n",
    "data['MORTDUE'] = truncate(data['MORTDUE'])\n",
    "data['LOAN'] = truncate(data['LOAN'])\n",
    "data['VALUE'] = truncate(data['VALUE'])\n",
    "data['YOJ'] = truncate(data['YOJ'])\n",
    "data['DEROG'] = truncate(data['DEROG'])\n",
    "data['DELINQ'] = truncate(data['DELINQ'])\n",
    "data['CLAGE'] = truncate(data['CLAGE'])\n",
    "data['NINQ'] = truncate(data['NINQ'])\n",
    "data['CLNO'] = truncate(data['CLNO'])\n",
    "data['DEBTINC'] = truncate(data['DEBTINC'])"
   ]
  },
  {
   "cell_type": "code",
   "execution_count": 41,
   "metadata": {},
   "outputs": [
    {
     "data": {
      "image/png": "[encoded data removed]",
      "text/plain": [
       "<matplotlib.figure.Figure at 0x157e99ce0b8>"
      ]
     },
     "metadata": {},
     "output_type": "display_data"
    }
   ],
   "source": [
    "num_data = data.select_dtypes(exclude=['object']).copy()\n",
    "num_data_2 = num_data.drop(['BAD'], axis =1)\n",
    "data_scaled = scale(num_data_2)\n",
    "\n",
    "# Create a figure instance\n",
    "fig = plt.figure(1, figsize=(15, 10))\n",
    "\n",
    "# Create an axes instance\n",
    "ax = fig.add_subplot(111)\n",
    "\n",
    "# Create the boxplot\n",
    "bp = ax.boxplot(data_scaled,labels=bxlabs,showfliers=True)\n",
    "plt.show()"
   ]
  },
  {
   "cell_type": "markdown",
   "metadata": {},
   "source": [
    "# Dummy Coding\n",
    "Hao's work adapted"
   ]
  },
  {
   "cell_type": "code",
   "execution_count": 7,
   "metadata": {},
   "outputs": [
    {
     "name": "stdout",
     "output_type": "stream",
     "text": [
      "{0: 'DebtCon', 1: 'HomeImp'}\n",
      "{0: 'Mgr', 1: 'Office', 2: 'Other', 3: 'ProfExe', 4: 'Sales', 5: 'Self', 6: 'Unempl'}\n",
      "BAD              int64\n",
      "LOAN             int64\n",
      "MORTDUE        float64\n",
      "VALUE          float64\n",
      "YOJ            float64\n",
      "DEROG          float64\n",
      "DELINQ         float64\n",
      "CLAGE          float64\n",
      "NINQ           float64\n",
      "CLNO           float64\n",
      "DEBTINC        float64\n",
      "REASON_code       int8\n",
      "JOB_code          int8\n",
      "dtype: object\n"
     ]
    }
   ],
   "source": [
    "#Create the dummies for categorical data\n",
    "data['REASON'] = data['REASON'].astype('category')\n",
    "data['REASON_code'] = data['REASON'].cat.codes\n",
    "data['JOB'] = data['JOB'].astype('category')\n",
    "data['JOB_code'] = data['JOB'].cat.codes\n",
    "\n",
    "#Map Numeric data\n",
    "print (dict(enumerate(data['REASON'].cat.categories)))\n",
    "print (dict(enumerate(data['JOB'].cat.categories)))\n",
    "\n",
    "#Creat New dataset for training and testing\n",
    "data = data.drop(['REASON', 'JOB'], axis=1)\n",
    "\n",
    "#Type of variables\n",
    "print(data.dtypes)"
   ]
  },
  {
   "cell_type": "markdown",
   "metadata": {},
   "source": [
    "# Class Imbalance"
   ]
  },
  {
   "cell_type": "code",
   "execution_count": null,
   "metadata": {
    "collapsed": true
   },
   "outputs": [],
   "source": [
    "#Visualize the class imbalance problem\n",
    "plt.figure()\n",
    "sns.countplot(x='BAD', data=data, palette = 'RdBu')\n",
    "plt.rcParams['figure.figsize']=(5,5)"
   ]
  },
  {
   "cell_type": "code",
   "execution_count": 57,
   "metadata": {},
   "outputs": [
    {
     "data": {
      "text/plain": [
       "0    4496\n",
       "1    1125\n",
       "Name: BAD, dtype: int64"
      ]
     },
     "execution_count": 57,
     "metadata": {},
     "output_type": "execute_result"
    }
   ],
   "source": [
    "#Count the number of BAD 0 and 1\n",
    "count01 = data['BAD'].value_counts()\n",
    "count01"
   ]
  },
  {
   "cell_type": "code",
   "execution_count": null,
   "metadata": {
    "collapsed": true
   },
   "outputs": [],
   "source": [
    "#Percentage of Bad and Good customers\n",
    "Percentage_Good = count01[0]/(count01[0]+count01[1])\n",
    "Percentage_Bad = 1 - Percentage_Good\n",
    "print(Percentage_Bad)\n",
    "print(Percentage_Good)"
   ]
  },
  {
   "cell_type": "markdown",
   "metadata": {},
   "source": [
    "# Creating the Training and Test Sets"
   ]
  },
  {
   "cell_type": "code",
   "execution_count": 8,
   "metadata": {},
   "outputs": [],
   "source": [
    "#Use the training dataset to build and validate the model, and treat the test dataset as the unseen new data.\n",
    "#75% training set; 25% test set\n",
    "training_features, test_features, training_target, test_target, = train_test_split(data.drop(['BAD'], axis=1),\n",
    "                                               data['BAD'],\n",
    "                                               test_size = .25,\n",
    "                                               random_state=12)\n",
    "\n",
    "# overview of training set\n",
    "training_set = pd.concat([training_features, training_target], axis=1)"
   ]
  },
  {
   "cell_type": "markdown",
   "metadata": {},
   "source": [
    "# Oversampling on Training data"
   ]
  },
  {
   "cell_type": "code",
   "execution_count": 12,
   "metadata": {},
   "outputs": [
    {
     "ename": "ImportError",
     "evalue": "cannot import name 'Bunch'",
     "output_type": "error",
     "traceback": [
      "\u001b[1;31m---------------------------------------------------------------------------\u001b[0m",
      "\u001b[1;31mImportError\u001b[0m                               Traceback (most recent call last)",
      "\u001b[1;32m<ipython-input-12-8191a05788a7>\u001b[0m in \u001b[0;36m<module>\u001b[1;34m()\u001b[0m\n\u001b[0;32m      8\u001b[0m \u001b[1;31m#      approach effectively forces the decision region of the minority class to become more general.\u001b[0m\u001b[1;33m\u001b[0m\u001b[1;33m\u001b[0m\u001b[0m\n\u001b[0;32m      9\u001b[0m \u001b[1;33m\u001b[0m\u001b[0m\n\u001b[1;32m---> 10\u001b[1;33m \u001b[1;32mfrom\u001b[0m \u001b[0msklearn\u001b[0m\u001b[1;33m.\u001b[0m\u001b[0mdatasets\u001b[0m \u001b[1;32mimport\u001b[0m \u001b[0mmake_classification\u001b[0m\u001b[1;33m\u001b[0m\u001b[0m\n\u001b[0m\u001b[0;32m     11\u001b[0m \u001b[1;32mfrom\u001b[0m \u001b[0mimblearn\u001b[0m \u001b[1;32mimport\u001b[0m \u001b[0munder_sampling\u001b[0m\u001b[1;33m,\u001b[0m \u001b[0mover_sampling\u001b[0m\u001b[1;33m\u001b[0m\u001b[0m\n\u001b[0;32m     12\u001b[0m \u001b[1;32mfrom\u001b[0m \u001b[0mimblearn\u001b[0m\u001b[1;33m.\u001b[0m\u001b[0mover_sampling\u001b[0m \u001b[1;32mimport\u001b[0m \u001b[0mSMOTE\u001b[0m\u001b[1;33m\u001b[0m\u001b[0m\n",
      "\u001b[1;32mC:\\Users\\Eugene\\Anaconda3\\lib\\site-packages\\sklearn\\datasets\\__init__.py\u001b[0m in \u001b[0;36m<module>\u001b[1;34m()\u001b[0m\n\u001b[0;32m      5\u001b[0m \"\"\"\n\u001b[0;32m      6\u001b[0m \u001b[1;33m\u001b[0m\u001b[0m\n\u001b[1;32m----> 7\u001b[1;33m \u001b[1;32mfrom\u001b[0m \u001b[1;33m.\u001b[0m\u001b[0mbase\u001b[0m \u001b[1;32mimport\u001b[0m \u001b[0mload_diabetes\u001b[0m\u001b[1;33m\u001b[0m\u001b[0m\n\u001b[0m\u001b[0;32m      8\u001b[0m \u001b[1;32mfrom\u001b[0m \u001b[1;33m.\u001b[0m\u001b[0mbase\u001b[0m \u001b[1;32mimport\u001b[0m \u001b[0mload_digits\u001b[0m\u001b[1;33m\u001b[0m\u001b[0m\n\u001b[0;32m      9\u001b[0m \u001b[1;32mfrom\u001b[0m \u001b[1;33m.\u001b[0m\u001b[0mbase\u001b[0m \u001b[1;32mimport\u001b[0m \u001b[0mload_files\u001b[0m\u001b[1;33m\u001b[0m\u001b[0m\n",
      "\u001b[1;32mC:\\Users\\Eugene\\Anaconda3\\lib\\site-packages\\sklearn\\datasets\\base.py\u001b[0m in \u001b[0;36m<module>\u001b[1;34m()\u001b[0m\n\u001b[0;32m     18\u001b[0m \u001b[1;32mimport\u001b[0m \u001b[0mhashlib\u001b[0m\u001b[1;33m\u001b[0m\u001b[0m\n\u001b[0;32m     19\u001b[0m \u001b[1;33m\u001b[0m\u001b[0m\n\u001b[1;32m---> 20\u001b[1;33m \u001b[1;32mfrom\u001b[0m \u001b[1;33m.\u001b[0m\u001b[1;33m.\u001b[0m\u001b[0mutils\u001b[0m \u001b[1;32mimport\u001b[0m \u001b[0mBunch\u001b[0m\u001b[1;33m\u001b[0m\u001b[0m\n\u001b[0m\u001b[0;32m     21\u001b[0m \u001b[1;32mfrom\u001b[0m \u001b[1;33m.\u001b[0m\u001b[1;33m.\u001b[0m\u001b[0mutils\u001b[0m \u001b[1;32mimport\u001b[0m \u001b[0mcheck_random_state\u001b[0m\u001b[1;33m\u001b[0m\u001b[0m\n\u001b[0;32m     22\u001b[0m \u001b[1;33m\u001b[0m\u001b[0m\n",
      "\u001b[1;31mImportError\u001b[0m: cannot import name 'Bunch'"
     ]
    }
   ],
   "source": [
    "# type this in your anaconda prompt before executing: pip install -U imbalanced-learn (I struggled, do\n",
    "# not remember the exact procedure)\n",
    "\n",
    "# Paper explaining SMOTE --> See page 328     https://www.jair.org/media/953/live-953-2037-jair.pdf \n",
    "#      \"Take the difference between the feature vector (sample) under consideration and its nearest neighbor.\n",
    "#      Multiply this difference by a random number between 0 and 1, and add it to the feature vector under consideration.\n",
    "#      This causes the selection of a random point along the line segment between two specific features. This\n",
    "#      approach effectively forces the decision region of the minority class to become more general.\n",
    "\n",
    "from sklearn.datasets import make_classification\n",
    "from imblearn import under_sampling, over_sampling\n",
    "from imblearn.over_sampling import SMOTE\n",
    "from imblearn.over_sampling import RandomOverSampler\n",
    "from collections import Counter"
   ]
  },
  {
   "cell_type": "code",
   "execution_count": 10,
   "metadata": {},
   "outputs": [],
   "source": [
    "#Seperate Training dataset for training (90%) and validation (10%)\n",
    "#SOURCE:https://beckernick.github.io/oversampling-modeling/\n",
    "x_train, x_val, y_train, y_val = train_test_split(training_features, training_target,\n",
    "                                                  test_size = .1,\n",
    "                                                  random_state=12)\n",
    "\n"
   ]
  },
  {
   "cell_type": "code",
   "execution_count": null,
   "metadata": {},
   "outputs": [],
   "source": [
    "from imblearn.over_sampling import SMOTE\n",
    "#from imblearn.over_sampling import SMOTE\n",
    "#Apply SMOTE --> Keeps error saying string other cannot be converted into float\n",
    "sm = SMOTE(random_state=12) #set state so that we have the same generated data everytime\n",
    "x_train_res, y_train_res = sm.fit_sample(x_train, y_train)\n",
    "print(sorted(Counter(y_train_res).items())) #to count the instances of BAD_0 and BAD_1"
   ]
  },
  {
   "cell_type": "code",
   "execution_count": 18,
   "metadata": {
    "scrolled": true
   },
   "outputs": [
    {
     "ename": "ModuleNotFoundError",
     "evalue": "No module named 'imblearn'",
     "output_type": "error",
     "traceback": [
      "\u001b[1;31m---------------------------------------------------------------------------\u001b[0m",
      "\u001b[1;31mModuleNotFoundError\u001b[0m                       Traceback (most recent call last)",
      "\u001b[1;32m<ipython-input-18-5e4bb74a27f6>\u001b[0m in \u001b[0;36m<module>\u001b[1;34m()\u001b[0m\n\u001b[0;32m      1\u001b[0m \u001b[1;31m#Apply RandomOverSampler (both SMOTE & RandomOverSampler works, but SMOTE is used)\u001b[0m\u001b[1;33m\u001b[0m\u001b[1;33m\u001b[0m\u001b[0m\n\u001b[0;32m      2\u001b[0m \u001b[1;31m#Source: http://contrib.scikit-learn.org/imbalanced-learn/stable/over_sampling.html\u001b[0m\u001b[1;33m\u001b[0m\u001b[1;33m\u001b[0m\u001b[0m\n\u001b[1;32m----> 3\u001b[1;33m \u001b[1;32mfrom\u001b[0m \u001b[0mimblearn\u001b[0m\u001b[1;33m.\u001b[0m\u001b[0mover_sampling\u001b[0m \u001b[1;32mimport\u001b[0m \u001b[0mRandomOverSampler\u001b[0m\u001b[1;33m\u001b[0m\u001b[0m\n\u001b[0m\u001b[0;32m      4\u001b[0m \u001b[1;33m\u001b[0m\u001b[0m\n\u001b[0;32m      5\u001b[0m x_train, x_val, y_train, y_val = train_test_split(training_features, training_target,\n",
      "\u001b[1;31mModuleNotFoundError\u001b[0m: No module named 'imblearn'"
     ]
    }
   ],
   "source": [
    "#Apply RandomOverSampler (both SMOTE & RandomOverSampler works, but SMOTE is used)\n",
    "#Source: http://contrib.scikit-learn.org/imbalanced-learn/stable/over_sampling.html\n",
    "from imblearn.over_sampling import RandomOverSampler\n",
    "\n",
    "x_train, x_val, y_train, y_val = train_test_split(training_features, training_target,\n",
    "                                                  test_size = .1,\n",
    "                                                  random_state=12)\n",
    "\n",
    "ros = RandomOverSampler(random_state=0)\n",
    "x_train_res_ros, y_train_res_ros = ros.fit_sample(x_train, y_train)\n",
    "from collections import Counter\n",
    "print(sorted(Counter(y_train_res_ros).items()))"
   ]
  },
  {
   "cell_type": "markdown",
   "metadata": {},
   "source": [
    "# Converting numeirical into categorial) "
   ]
  },
  {
   "cell_type": "code",
   "execution_count": 11,
   "metadata": {},
   "outputs": [
    {
     "name": "stdout",
     "output_type": "stream",
     "text": [
      "   BAD  LOAN  MORTDUE     VALUE   YOJ  DEROG    DELINQ       CLAGE  NINQ  \\\n",
      "0    1  1100  25860.0   39025.0  10.5    0.0  0.000000   94.366667   1.0   \n",
      "1    1  1300  70053.0   68400.0   7.0    0.0  1.121639  121.833333   0.0   \n",
      "2    1  1500  13500.0   16700.0   4.0    0.0  0.000000  149.466667   1.0   \n",
      "4    0  1700  97800.0  112000.0   3.0    0.0  0.000000   93.333333   0.0   \n",
      "5    1  1700  30548.0   40320.0   9.0    0.0  0.000000  101.466002   1.0   \n",
      "\n",
      "   CLNO    DEBTINC  JOB_code_0  JOB_code_1  JOB_code_2  JOB_code_3  \\\n",
      "0   9.0  34.070547           0           0           1           0   \n",
      "1  14.0  34.070547           0           0           1           0   \n",
      "2  10.0  34.070547           0           0           1           0   \n",
      "4  14.0  34.070547           0           1           0           0   \n",
      "5   8.0  37.113614           0           0           1           0   \n",
      "\n",
      "   JOB_code_4  JOB_code_5  JOB_code_6  REASON_code_0  REASON_code_1  \n",
      "0           0           0           0              0              1  \n",
      "1           0           0           0              0              1  \n",
      "2           0           0           0              0              1  \n",
      "4           0           0           0              0              1  \n",
      "5           0           0           0              0              1  \n"
     ]
    }
   ],
   "source": [
    "test = pd.get_dummies(data, columns=['JOB_code','REASON_code'])\n",
    "print(test.head())"
   ]
  },
  {
   "cell_type": "markdown",
   "metadata": {},
   "source": [
    "# Model\n",
    "Hao's Work"
   ]
  },
  {
   "cell_type": "code",
   "execution_count": 20,
   "metadata": {},
   "outputs": [
    {
     "ename": "NameError",
     "evalue": "name 'x_train_res' is not defined",
     "output_type": "error",
     "traceback": [
      "\u001b[1;31m---------------------------------------------------------------------------\u001b[0m",
      "\u001b[1;31mNameError\u001b[0m                                 Traceback (most recent call last)",
      "\u001b[1;32m<ipython-input-20-a6a12dc71830>\u001b[0m in \u001b[0;36m<module>\u001b[1;34m()\u001b[0m\n\u001b[0;32m      2\u001b[0m \u001b[1;32mfrom\u001b[0m \u001b[0msklearn\u001b[0m\u001b[1;33m.\u001b[0m\u001b[0msvm\u001b[0m \u001b[1;32mimport\u001b[0m \u001b[0mSVC\u001b[0m\u001b[1;33m\u001b[0m\u001b[0m\n\u001b[0;32m      3\u001b[0m \u001b[0mclf_SVC\u001b[0m\u001b[1;33m=\u001b[0m\u001b[0mSVC\u001b[0m\u001b[1;33m(\u001b[0m\u001b[1;33m)\u001b[0m\u001b[1;33m\u001b[0m\u001b[0m\n\u001b[1;32m----> 4\u001b[1;33m \u001b[0mclf_SVC\u001b[0m\u001b[1;33m.\u001b[0m\u001b[0mfit\u001b[0m\u001b[1;33m(\u001b[0m\u001b[0mx_train_res\u001b[0m\u001b[1;33m,\u001b[0m \u001b[0my_train_res\u001b[0m\u001b[1;33m)\u001b[0m\u001b[1;33m\u001b[0m\u001b[0m\n\u001b[0m\u001b[0;32m      5\u001b[0m \u001b[0mprint\u001b[0m\u001b[1;33m(\u001b[0m\u001b[1;34m\"SVC Score: \"\u001b[0m\u001b[1;33m,\u001b[0m\u001b[0mclf_SVC\u001b[0m\u001b[1;33m.\u001b[0m\u001b[0mscore\u001b[0m\u001b[1;33m(\u001b[0m\u001b[0mx_val\u001b[0m\u001b[1;33m,\u001b[0m\u001b[0my_val\u001b[0m\u001b[1;33m)\u001b[0m\u001b[1;33m)\u001b[0m\u001b[1;33m\u001b[0m\u001b[0m\n\u001b[0;32m      6\u001b[0m \u001b[1;31m#print(fbeta_score(y_train[:223], clf_SVC.predict(X_test),beta=0.5))\u001b[0m\u001b[1;33m\u001b[0m\u001b[1;33m\u001b[0m\u001b[0m\n",
      "\u001b[1;31mNameError\u001b[0m: name 'x_train_res' is not defined"
     ]
    }
   ],
   "source": [
    "# SVM For classification\n",
    "from sklearn.svm import SVC\n",
    "clf_SVC=SVC()\n",
    "clf_SVC.fit(x_train_res, y_train_res)\n",
    "print(\"SVC Score: \",clf_SVC.score(x_val,y_val))\n",
    "#print(fbeta_score(y_train[:223], clf_SVC.predict(X_test),beta=0.5))"
   ]
  },
  {
   "cell_type": "markdown",
   "metadata": {},
   "source": [
    "# EUGENE"
   ]
  },
  {
   "cell_type": "code",
   "execution_count": 12,
   "metadata": {},
   "outputs": [
    {
     "name": "stderr",
     "output_type": "stream",
     "text": [
      "C:\\Users\\Eugene\\Anaconda3\\lib\\site-packages\\sklearn\\cross_validation.py:41: DeprecationWarning: This module was deprecated in version 0.18 in favor of the model_selection module into which all the refactored classes and functions are moved. Also note that the interface of the new CV iterators are different from that of this module. This module will be removed in 0.20.\n",
      "  \"This module will be removed in 0.20.\", DeprecationWarning)\n"
     ]
    }
   ],
   "source": [
    "from sklearn.svm import SVC\n",
    "from sklearn.cross_validation import KFold, cross_val_score"
   ]
  },
  {
   "cell_type": "code",
   "execution_count": 13,
   "metadata": {},
   "outputs": [
    {
     "name": "stdout",
     "output_type": "stream",
     "text": [
      "SVC Score:  0.774881516588\n",
      "[ 0.77368421  0.81052632  0.82368421  0.80211082  0.81002639  0.77044855\n",
      "  0.823219    0.79155673  0.81530343  0.823219  ]\n"
     ]
    }
   ],
   "source": [
    "#MAKING PREDICTIONS WITH SVC\n",
    "\n",
    "clf_SVC=SVC(probability=True)\n",
    "SVC_fit=clf_SVC.fit(x_train, y_train)\n",
    "print(\"SVC Score: \",clf_SVC.score(x_val,y_val))\n",
    "\n",
    "#10-fold CV\n",
    "k_fold = KFold(len(y_train), n_folds=10, shuffle=True, random_state=0)\n",
    "\n",
    "print (cross_val_score(SVC_fit, x_train, y_train, cv=k_fold, n_jobs=1))\n",
    "\n",
    "#Predictions from random forest classifier\n",
    "SVC_pred = SVC_fit.predict(test_features)\n"
   ]
  },
  {
   "cell_type": "code",
   "execution_count": 25,
   "metadata": {},
   "outputs": [
    {
     "name": "stdout",
     "output_type": "stream",
     "text": [
      "[[1117    0]\n",
      " [ 289    0]]\n",
      "             precision    recall  f1-score   support\n",
      "\n",
      "          0       0.79      1.00      0.89      1117\n",
      "          1       0.00      0.00      0.00       289\n",
      "\n",
      "avg / total       0.63      0.79      0.70      1406\n",
      "\n"
     ]
    },
    {
     "name": "stderr",
     "output_type": "stream",
     "text": [
      "C:\\Users\\Eugene\\Anaconda3\\lib\\site-packages\\sklearn\\metrics\\classification.py:1113: UndefinedMetricWarning: Precision and F-score are ill-defined and being set to 0.0 in labels with no predicted samples.\n",
      "  'precision', 'predicted', average, warn_for)\n"
     ]
    },
    {
     "data": {
      "image/png": "[encoded data removed]",
      "text/plain": [
       "<matplotlib.figure.Figure at 0x174a24c1710>"
      ]
     },
     "metadata": {},
     "output_type": "display_data"
    }
   ],
   "source": [
    "#Confusion matrix and ROC curve for SVC\n",
    "from sklearn.metrics import confusion_matrix\n",
    "confusion_matrixSVC = confusion_matrix(test_target, SVC_pred)\n",
    "print(confusion_matrixSVC)\n",
    "\n",
    "\n",
    "#Model evaluation score for SVC\n",
    "from sklearn.metrics import classification_report\n",
    "print(classification_report(test_target, SVC_pred))\n",
    "\n",
    "#ROC for SVC\n",
    "\n",
    "from sklearn.metrics import roc_auc_score\n",
    "from sklearn.metrics import roc_curve\n",
    "SVC_roc_auc = roc_auc_score(test_target, SVC_pred)\n",
    "fpr_svc, tpr_svc, thresholds_svc = roc_curve(test_target, SVC_fit.predict_proba(test_features)[:,1])\n",
    "plt.figure()\n",
    "plt.plot(fpr_svc, tpr_svc, label='Support Vector Machine Classifier (area = %0.2f)' % SVC_roc_auc)\n",
    "plt.plot([0, 1], [0, 1],'r--')\n",
    "plt.xlim([0.0, 1.0])\n",
    "plt.ylim([0.0, 1.05])\n",
    "plt.xlabel('False Positive Rate')\n",
    "plt.ylabel('True Positive Rate')\n",
    "plt.title('Receiver operating characteristic')\n",
    "plt.legend(loc=\"lower right\")\n",
    "plt.savefig('SVC_ROC')\n",
    "plt.show()"
   ]
  },
  {
   "cell_type": "code",
   "execution_count": 27,
   "metadata": {},
   "outputs": [
    {
     "name": "stdout",
     "output_type": "stream",
     "text": [
      "[[ 0.8045913  0.1954087]\n",
      " [ 0.8045913  0.1954087]\n",
      " [ 0.8045913  0.1954087]\n",
      " ..., \n",
      " [ 0.8045913  0.1954087]\n",
      " [ 0.8045913  0.1954087]\n",
      " [ 0.8045913  0.1954087]]\n"
     ]
    }
   ],
   "source": [
    "print(SVC_fit.predict_proba(test_features))"
   ]
  },
  {
   "cell_type": "code",
   "execution_count": 23,
   "metadata": {},
   "outputs": [
    {
     "ename": "NameError",
     "evalue": "name 'x_train_res' is not defined",
     "output_type": "error",
     "traceback": [
      "\u001b[1;31m---------------------------------------------------------------------------\u001b[0m",
      "\u001b[1;31mNameError\u001b[0m                                 Traceback (most recent call last)",
      "\u001b[1;32m<ipython-input-23-13684b4ff49f>\u001b[0m in \u001b[0;36m<module>\u001b[1;34m()\u001b[0m\n\u001b[0;32m     10\u001b[0m \u001b[1;32mfrom\u001b[0m \u001b[0msklearn\u001b[0m\u001b[1;33m.\u001b[0m\u001b[0mensemble\u001b[0m \u001b[1;32mimport\u001b[0m \u001b[0mRandomForestClassifier\u001b[0m\u001b[1;33m\u001b[0m\u001b[0m\n\u001b[0;32m     11\u001b[0m \u001b[0mclf_RF\u001b[0m \u001b[1;33m=\u001b[0m \u001b[0mRandomForestClassifier\u001b[0m\u001b[1;33m(\u001b[0m\u001b[0mrandom_state\u001b[0m\u001b[1;33m=\u001b[0m\u001b[1;36m0\u001b[0m\u001b[1;33m,\u001b[0m\u001b[0mn_estimators\u001b[0m \u001b[1;33m=\u001b[0m \u001b[1;36m100\u001b[0m\u001b[1;33m)\u001b[0m\u001b[1;33m\u001b[0m\u001b[0m\n\u001b[1;32m---> 12\u001b[1;33m \u001b[0mclf_RF\u001b[0m\u001b[1;33m.\u001b[0m\u001b[0mfit\u001b[0m\u001b[1;33m(\u001b[0m\u001b[0mx_train_res\u001b[0m\u001b[1;33m,\u001b[0m \u001b[0my_train_res\u001b[0m\u001b[1;33m)\u001b[0m\u001b[1;33m\u001b[0m\u001b[0m\n\u001b[0m\u001b[0;32m     13\u001b[0m \u001b[0mprint\u001b[0m\u001b[1;33m(\u001b[0m\u001b[1;34m\"RF Score: \"\u001b[0m\u001b[1;33m,\u001b[0m\u001b[0mclf_RF\u001b[0m\u001b[1;33m.\u001b[0m\u001b[0mscore\u001b[0m\u001b[1;33m(\u001b[0m\u001b[0mx_val\u001b[0m\u001b[1;33m,\u001b[0m\u001b[0my_val\u001b[0m\u001b[1;33m)\u001b[0m\u001b[1;33m)\u001b[0m\u001b[1;33m\u001b[0m\u001b[0m\n\u001b[0;32m     14\u001b[0m \u001b[1;32mfor\u001b[0m \u001b[0mname\u001b[0m\u001b[1;33m,\u001b[0m \u001b[0mimportance\u001b[0m \u001b[1;32min\u001b[0m \u001b[0mzip\u001b[0m\u001b[1;33m(\u001b[0m\u001b[0mnew_training_set\u001b[0m\u001b[1;33m.\u001b[0m\u001b[0mcolumns\u001b[0m\u001b[1;33m,\u001b[0m \u001b[0mclf_RF\u001b[0m\u001b[1;33m.\u001b[0m\u001b[0mfeature_importances_\u001b[0m\u001b[1;33m)\u001b[0m\u001b[1;33m:\u001b[0m\u001b[1;33m\u001b[0m\u001b[0m\n",
      "\u001b[1;31mNameError\u001b[0m: name 'x_train_res' is not defined"
     ]
    }
   ],
   "source": [
    "#Random Forest For classification\n",
    "\n",
    "from sklearn import preprocessing\n",
    "#Scale value of features so that different values due to different units do not cause an issue\n",
    "new_training_set = data.drop(['BAD'], axis=1)\n",
    "min_max_scaler = preprocessing.MinMaxScaler()\n",
    "new_training_set_scaled = min_max_scaler.fit_transform(new_training_set)\n",
    "\n",
    "\n",
    "from sklearn.ensemble import RandomForestClassifier\n",
    "clf_RF = RandomForestClassifier(random_state=0,n_estimators = 100)\n",
    "clf_RF.fit(x_train_res, y_train_res)\n",
    "print(\"RF Score: \",clf_RF.score(x_val,y_val))\n",
    "for name, importance in zip(new_training_set.columns, clf_RF.feature_importances_):\n",
    "    print(name, \"=\", importance)\n",
    "#print(fbeta_score(y_train[:223], clf_RF.predict(X_test),beta=0.5))\n",
    "# SEB: these results can be used as a first stage for feature selection as it shows the importance of each feature\n",
    "# then , we could rerun the model without the not important features. "
   ]
  },
  {
   "cell_type": "markdown",
   "metadata": {},
   "source": [
    "# EUGENE"
   ]
  },
  {
   "cell_type": "code",
   "execution_count": 28,
   "metadata": {},
   "outputs": [
    {
     "name": "stdout",
     "output_type": "stream",
     "text": [
      "[ 0.89210526  0.93157895  0.92105263  0.91556728  0.91292876  0.87598945\n",
      "  0.9182058   0.92348285  0.93139842  0.91556728]\n"
     ]
    }
   ],
   "source": [
    "#Making predictions for the random forest classifier\n",
    "from sklearn import preprocessing\n",
    "#Scale value of features so that different values due to different units do not cause an issue\n",
    "new_training_set = data.drop(['BAD'], axis=1)\n",
    "min_max_scaler = preprocessing.MinMaxScaler()\n",
    "new_training_set_scaled = min_max_scaler.fit_transform(new_training_set)\n",
    "\n",
    "\n",
    "from sklearn.ensemble import RandomForestClassifier\n",
    "clf_RF = RandomForestClassifier(random_state=0,n_estimators = 100)\n",
    "RFC_fit=clf_RF.fit(x_train, y_train)\n",
    "\n",
    "from sklearn.cross_validation import KFold, cross_val_score\n",
    "k_fold = KFold(len(y_train), n_folds=10, shuffle=True, random_state=0)\n",
    "\n",
    "print (cross_val_score(RFC_fit, x_train, y_train, cv=k_fold, n_jobs=1))\n",
    "\n",
    "#Predictions from random forest classifier\n",
    "RFC_pred = RFC_fit.predict(test_features)"
   ]
  },
  {
   "cell_type": "code",
   "execution_count": 29,
   "metadata": {},
   "outputs": [
    {
     "name": "stdout",
     "output_type": "stream",
     "text": [
      "[[1090   27]\n",
      " [ 109  180]]\n",
      "             precision    recall  f1-score   support\n",
      "\n",
      "          0       0.91      0.98      0.94      1117\n",
      "          1       0.87      0.62      0.73       289\n",
      "\n",
      "avg / total       0.90      0.90      0.90      1406\n",
      "\n"
     ]
    },
    {
     "data": {
      "image/png": "[encoded data removed]",
      "text/plain": [
       "<matplotlib.figure.Figure at 0x174a24c1b38>"
      ]
     },
     "metadata": {},
     "output_type": "display_data"
    }
   ],
   "source": [
    "#Confusion matrix and ROC curve for random classifier\n",
    "from sklearn.metrics import confusion_matrix\n",
    "confusion_matrixRFC = confusion_matrix(test_target, RFC_pred)\n",
    "print(confusion_matrixRFC)\n",
    "#1090 correctly classified as '0' and 180 as '1'\n",
    "\n",
    "#Model evaluation score for RFC\n",
    "from sklearn.metrics import classification_report\n",
    "print(classification_report(test_target, RFC_pred))\n",
    "\n",
    "#ROC for RFC\n",
    "\n",
    "from sklearn.metrics import roc_auc_score\n",
    "from sklearn.metrics import roc_curve\n",
    "RFC_roc_auc = roc_auc_score(test_target, RFC_pred)\n",
    "fpr_rfc, tpr_rfc, thresholds_rfc = roc_curve(test_target, RFC_fit.predict_proba(test_features)[:,1])\n",
    "plt.figure()\n",
    "plt.plot(fpr_rfc, tpr_rfc, label='Random Forest Classifier (area = %0.2f)' % RFC_roc_auc)\n",
    "plt.plot([0, 1], [0, 1],'r--')\n",
    "plt.xlim([0.0, 1.0])\n",
    "plt.ylim([0.0, 1.05])\n",
    "plt.xlabel('False Positive Rate')\n",
    "plt.ylabel('True Positive Rate')\n",
    "plt.title('Receiver operating characteristic')\n",
    "plt.legend(loc=\"lower right\")\n",
    "plt.savefig('RFC_ROC')\n",
    "plt.show()\n"
   ]
  },
  {
   "cell_type": "code",
   "execution_count": 25,
   "metadata": {},
   "outputs": [
    {
     "name": "stdout",
     "output_type": "stream",
     "text": [
      "Accuracy of logistic regression classifier on test set: 0.79\n",
      "10-fold cross validation average accuracy: 0.802\n",
      "[[1117    0]\n",
      " [ 289    0]]\n"
     ]
    },
    {
     "name": "stderr",
     "output_type": "stream",
     "text": [
      "C:\\Users\\Eugene\\Anaconda3\\lib\\site-packages\\sklearn\\metrics\\classification.py:1113: UndefinedMetricWarning: Precision and F-score are ill-defined and being set to 0.0 in labels with no predicted samples.\n",
      "  'precision', 'predicted', average, warn_for)\n"
     ]
    },
    {
     "name": "stdout",
     "output_type": "stream",
     "text": [
      "             precision    recall  f1-score   support\n",
      "\n",
      "          0       0.79      1.00      0.89      1117\n",
      "          1       0.00      0.00      0.00       289\n",
      "\n",
      "avg / total       0.63      0.79      0.70      1406\n",
      "\n"
     ]
    },
    {
     "data": {
      "image/png": "[encoded data removed]",
      "text/plain": [
       "<matplotlib.figure.Figure at 0x2040838a7b8>"
      ]
     },
     "metadata": {},
     "output_type": "display_data"
    }
   ],
   "source": [
    "#Logistic Regression \n",
    "#https://towardsdatascience.com/building-a-logistic-regression-in-python-step-by-step-becd4d56c9c8\n",
    "\n",
    "from sklearn.linear_model import LogisticRegression\n",
    "from sklearn import metrics\n",
    "logreg = LogisticRegression()\n",
    "logreg.fit(training_features, training_target)\n",
    "y_pred = logreg.predict(test_features)\n",
    "print('Accuracy of logistic regression classifier on test set: {:.2f}'.format(logreg.score(test_features, test_target)))\n",
    "\n",
    "#10-fold cross validation\n",
    "\n",
    "from sklearn import model_selection\n",
    "from sklearn.model_selection import cross_val_score\n",
    "kfold = model_selection.KFold(n_splits=10, random_state=7)\n",
    "modelCV = LogisticRegression()\n",
    "scoring = 'accuracy'\n",
    "results = model_selection.cross_val_score(modelCV, training_features, training_target, cv=kfold, scoring=scoring)\n",
    "print(\"10-fold cross validation average accuracy: %.3f\" % (results.mean()))\n",
    "#The average accuracy remains very close to the Logistic Regression model accuracy; hence, we can conclude that our model generalizes well.\n",
    "\n",
    "#Confusion Matrix \n",
    "\n",
    "from sklearn.metrics import confusion_matrix\n",
    "confusion_matrix = confusion_matrix(test_target, y_pred)\n",
    "print(confusion_matrix)\n",
    "#The result is telling us that we have 1072+114 correct predictions and 175+45 incorrect predictions. \n",
    "#If you try, you will get something else since it is random. \n",
    "\n",
    "#Compute precision, recall, F-measure and support\n",
    "\n",
    "from sklearn.metrics import classification_report\n",
    "print(classification_report(test_target, y_pred))\n",
    "\n",
    "#ROC CURVE\n",
    "\n",
    "from sklearn.metrics import roc_auc_score\n",
    "from sklearn.metrics import roc_curve\n",
    "logit_roc_auc = roc_auc_score(test_target, logreg.predict(test_features))\n",
    "fpr, tpr, thresholds = roc_curve(test_target, logreg.predict_proba(test_features)[:,1])\n",
    "plt.figure()\n",
    "plt.plot(fpr, tpr, label='Logistic Regression (area = %0.2f)' % logit_roc_auc)\n",
    "plt.plot([0, 1], [0, 1],'r--')\n",
    "plt.xlim([0.0, 1.0])\n",
    "plt.ylim([0.0, 1.05])\n",
    "plt.xlabel('False Positive Rate')\n",
    "plt.ylabel('True Positive Rate')\n",
    "plt.title('Receiver operating characteristic')\n",
    "plt.legend(loc=\"lower right\")\n",
    "plt.savefig('Log_ROC')\n",
    "plt.show()\n",
    "#The dotted line represents the ROC curve of a purely random classifier; \n",
    "#a good classifier stays as far away from that line as possible (toward the top-left corner).\n",
    "#"
   ]
  },
  {
   "cell_type": "markdown",
   "metadata": {},
   "source": [
    "# Feature Selection\n",
    "    # VARIATION"
   ]
  },
  {
   "cell_type": "raw",
   "metadata": {},
   "source": [
    "#Import VarianceTreshold ---> DEROG is dropped\n",
    "from sklearn.feature_selection import VarianceThreshold\n",
    "\n",
    "#Select the columns except target (BAD)\n",
    "data_features = data.drop(['BAD'], axis=1)\n",
    "# Remove all features that are either one or zero (on or off) in more than 80% of the samples\n",
    "sel = VarianceThreshold(threshold=(.8 * (1 - .8)))\n",
    "data_features = sel.fit_transform(data_features)\n",
    "length = len(data_features[0])\n",
    "#As a result, we have 11 remaining columns, DEROG has been deleted\n",
    "#DEROG was found thanks to ugly manipulation of the array sorry\n",
    "# It does not seem a good method as DEROG as many 0, leading to obvious poor variance"
   ]
  },
  {
   "cell_type": "markdown",
   "metadata": {},
   "source": [
    "    # CORRELATION (made by pierre)"
   ]
  },
  {
   "cell_type": "raw",
   "metadata": {},
   "source": [
    "def correlation(dataset, threshold):\n",
    "    col_corr = set() # Set of all the names of deleted columns\n",
    "    corr_matrix = dataset.corr()\n",
    "    for i in range(len(corr_matrix.columns)):\n",
    "        for j in range(i):\n",
    "            if corr_matrix.iloc[i, j] >= threshold:\n",
    "                colname = corr_matrix.columns[i] # getting the name of column\n",
    "                col_corr.add(colname)\n",
    "                if colname in dataset.columns:\n",
    "                    del dataset[colname] # deleting the column from the dataset\n",
    "\n",
    "    print(dataset)"
   ]
  },
  {
   "cell_type": "markdown",
   "metadata": {},
   "source": [
    "new_data = correlation(data,0.5)\n",
    "new_data\n",
    "#RESULT Deleted columns : Value, CLNO, DEBTINC (categorial variables not taken into account I assume: Reason & Job)"
   ]
  },
  {
   "cell_type": "markdown",
   "metadata": {},
   "source": [
    "    # Chi-Squarred method (Univariate feature selection)"
   ]
  },
  {
   "cell_type": "code",
   "execution_count": null,
   "metadata": {
    "collapsed": true
   },
   "outputs": [],
   "source": [
    "#This method allows to define the number of features we want to end up with (use parameter k)\n",
    "from sklearn import feature_selection\n",
    "from sklearn.feature_selection import SelectKBest\n",
    "from sklearn.feature_selection import chi2\n",
    "\n",
    "X, y = data.drop(['BAD'], axis=1), data['BAD']\n",
    "print(X.shape)\n",
    "\n",
    "X_new = SelectKBest(chi2, k=10).fit_transform(X, y)\n",
    "X_pd = pd.DataFrame(X_new)\n",
    "X_pd.head()"
   ]
  },
  {
   "cell_type": "markdown",
   "metadata": {},
   "source": [
    "    # Recursive featur elimination with cross validation "
   ]
  },
  {
   "cell_type": "code",
   "execution_count": null,
   "metadata": {
    "collapsed": true
   },
   "outputs": [],
   "source": [
    "import matplotlib.pyplot as plt\n",
    "from sklearn.svm import SVC\n",
    "from sklearn.model_selection import StratifiedKFold\n",
    "from sklearn.feature_selection import RFECV"
   ]
  },
  {
   "cell_type": "code",
   "execution_count": null,
   "metadata": {
    "collapsed": true
   },
   "outputs": [],
   "source": [
    "X, y = data.drop(['BAD'], axis=1), data['BAD']\n",
    "\n",
    "# Create the RFE object and compute a cross-validated score.\n",
    "clf = SVC(kernel=\"linear\")\n",
    "\n",
    "# The \"accuracy\" scoring is proportional to the number of correct classifications\n",
    "rfecv = RFECV(estimator=clf, step=1, cv=StratifiedKFold(2),\n",
    "              scoring='accuracy')\n",
    "rfecv.fit(X, y)\n",
    "ranking = rfecv.ranking_\n",
    "print(ranking)\n",
    "\n",
    "print(\"Optimal number of features : %d\" % rfecv.n_features_)\n",
    "\n",
    "# Plot number of features VS. cross-validation scores\n",
    "plt.figure()\n",
    "plt.xlabel(\"Number of features selected\")\n",
    "plt.ylabel(\"Cross validation score (nb of correct classifications)\")\n",
    "plt.plot(range(1, len(rfecv.grid_scores_) + 1), rfecv.grid_scores_)\n",
    "plt.show()"
   ]
  },
  {
   "cell_type": "markdown",
   "metadata": {},
   "source": [
    "    # Recursive feature elimination (Hao)"
   ]
  },
  {
   "cell_type": "raw",
   "metadata": {},
   "source": [
    "#Using SelectFromModel and LassoCV\n",
    "import matplotlib.pyplot as plt\n",
    "import numpy as np\n",
    "from sklearn.datasets import load_boston\n",
    "from sklearn.feature_selection import SelectFromModel\n",
    "from sklearn.linear_model import LassoCV\n",
    "\n",
    "# Load the dataset.\n",
    "print(data.shape)\n",
    "#(5960,13)\n",
    "data_features = data.drop(['BAD'], axis=1)\n",
    "X, y = data_features, data['BAD']\n",
    "\n",
    "# We use the base estimator LassoCV since the L1 norm promotes sparsity of features.\n",
    "clf = LassoCV()\n",
    "\n",
    "# Set a minimum threshold of 0.25\n",
    "sfm = SelectFromModel(clf, threshold=0.000000025)\n",
    "sfm.fit(X, y)\n",
    "n_features = sfm.transform(X).shape[1]\n",
    "n_features\n",
    "# Reset the threshold till the number of features equals two.\n",
    "# Note that the attribute can be set directly instead of repeatedly\n",
    "# fitting the metatransformer.\n",
    "while n_features > 2:\n",
    "    sfm.threshold += 0,1\n",
    "    X_transform = sfm.transform(X)\n",
    "    n_features = X_transform.shape[1]\n",
    "\n",
    "n_features\n",
    "\n",
    "# Plot the selected two features from X.\n",
    "plt.title(\n",
    "    \"Features selected  using SelectFromModel with \"\n",
    "    \"threshold %0.3f.\" % sfm.threshold)\n",
    "feature1 = X_transform[:, 0]\n",
    "feature2 = X_transform[:, 1]\n",
    "plt.plot(feature1, feature2, 'r.')\n",
    "plt.xlabel(\"Feature number 1\")\n",
    "plt.ylabel(\"Feature number 2\")\n",
    "plt.ylim([np.min(feature2), np.max(feature2)])\n",
    "plt.show()"
   ]
  },
  {
   "cell_type": "markdown",
   "metadata": {},
   "source": [
    "# EUGENE"
   ]
  },
  {
   "cell_type": "code",
   "execution_count": null,
   "metadata": {},
   "outputs": [
    {
     "name": "stdout",
     "output_type": "stream",
     "text": [
      "Automatically created module for IPython interactive environment\n"
     ]
    }
   ],
   "source": [
    "#RECURSIVE FEATURE ELIMINATION\n",
    "print(__doc__)\n",
    "\n",
    "import matplotlib.pyplot as plt\n",
    "from sklearn.svm import SVC\n",
    "from sklearn.model_selection import StratifiedKFold\n",
    "from sklearn.feature_selection import RFECV\n",
    "#from sklearn.datasets import make_classification\n",
    "\n",
    "# Create the RFE object and compute a cross-validated score.\n",
    "svc = SVC(kernel=\"linear\")\n",
    "# The \"accuracy\" scoring is proportional to the number of correct\n",
    "# classifications\n",
    "rfecv = RFECV(estimator=svc, step=1, cv=StratifiedKFold(2),\n",
    "              scoring='accuracy')\n",
    "rfecv.fit(x_train, y_train)\n",
    "\n",
    "print(\"Optimal number of features : %d\" % rfecv.n_features_)\n",
    "\n",
    "# Plot number of features VS. cross-validation scores\n",
    "plt.figure()\n",
    "plt.xlabel(\"Number of features selected\")\n",
    "plt.ylabel(\"Cross validation score (nb of correct classifications)\")\n",
    "plt.plot(range(1, len(rfecv.grid_scores_) + 1), rfecv.grid_scores_)\n",
    "plt.show()"
   ]
  },
  {
   "cell_type": "code",
   "execution_count": null,
   "metadata": {
    "collapsed": true
   },
   "outputs": [],
   "source": []
  }
 ],
 "metadata": {
  "kernelspec": {
   "display_name": "Python 3",
   "language": "python",
   "name": "python3"
  },
  "language_info": {
   "codemirror_mode": {
    "name": "ipython",
    "version": 3
   },
   "file_extension": ".py",
   "mimetype": "text/x-python",
   "name": "python",
   "nbconvert_exporter": "python",
   "pygments_lexer": "ipython3",
   "version": "3.6.4"
  }
 },
 "nbformat": 4,
 "nbformat_minor": 2
}
